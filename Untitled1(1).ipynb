{
 "cells": [
  {
   "cell_type": "markdown",
   "id": "66a33d4e-b773-4a52-a8ca-6b97b0de1a56",
   "metadata": {},
   "source": [
    "This is the sin(x) function"
   ]
  },
  {
   "cell_type": "code",
   "execution_count": 1,
   "id": "6bdc0fc6-84a3-4baa-a23a-70fe686a7b72",
   "metadata": {},
   "outputs": [
    {
     "name": "stdout",
     "output_type": "stream",
     "text": [
      "         sin x         \n",
      "-----------------------\n",
      "                    0.0\n",
      "   0.006289433316067751\n",
      "   0.012578617838741058\n",
      "    0.01886730478446709\n",
      "   0.025155245389375847\n",
      "     0.0314421909191206\n",
      "    0.03772789267871718\n",
      "    0.04401210202238166\n",
      "    0.05029457036336619\n",
      "    0.05657504918379235\n",
      "                    ...\n",
      "   -0.06285329004448273\n",
      "   -0.05657504918379272\n",
      "  -0.050294570363367035\n",
      "   -0.04401210202238211\n",
      "    -0.0377278926787181\n",
      "  -0.031442190919121114\n",
      "  -0.025155245389376843\n",
      "  -0.018867304784467676\n",
      "  -0.012578617838742121\n",
      "  -0.006289433316068405\n",
      "-2.4492935982947064e-16\n",
      "Length = 1000 rows\n"
     ]
    }
   ],
   "source": [
    "import numpy as np\n",
    "from astropy.table import Table\n",
    "import math\n",
    "\n",
    "def main():\n",
    "    x = np.linspace(0, 2*math.pi, 1000)\n",
    "    mytable=Table()\n",
    "    mytable['x'] = x\n",
    "    mytable['sin x'] = np.sin(x)\n",
    "    print (mytable['sin x'])\n",
    "    \n",
    "if __name__ == \"__main__\":\n",
    "    main()"
   ]
  },
  {
   "cell_type": "markdown",
   "id": "75f1b38d-005a-48e9-a51f-10424b4ca7ad",
   "metadata": {},
   "source": [
    "This is the cos(x) function"
   ]
  },
  {
   "cell_type": "code",
   "execution_count": 2,
   "id": "533cc6a6-752b-412e-a57c-b716b00f9ac9",
   "metadata": {},
   "outputs": [
    {
     "name": "stdout",
     "output_type": "stream",
     "text": [
      "      cos x       \n",
      "------------------\n",
      "               1.0\n",
      "0.9999802213186835\n",
      "0.9999208860571256\n",
      "0.9998219965624733\n",
      " 0.999683556746534\n",
      "0.9995055720856217\n",
      "0.9992880496203402\n",
      "0.9990309979553046\n",
      "0.9987344272588006\n",
      "0.9983983492623831\n",
      "               ...\n",
      "0.9980227772604112\n",
      " 0.998398349262383\n",
      "0.9987344272588006\n",
      "0.9990309979553045\n",
      "0.9992880496203401\n",
      "0.9995055720856217\n",
      " 0.999683556746534\n",
      "0.9998219965624733\n",
      "0.9999208860571257\n",
      "0.9999802213186832\n",
      "               1.0\n",
      "Length = 1000 rows\n"
     ]
    }
   ],
   "source": [
    "import numpy as np\n",
    "from astropy.table import Table\n",
    "import math\n",
    "\n",
    "def main():\n",
    "    x = np.linspace(0, 2*math.pi, 1000)\n",
    "    mytable=Table()\n",
    "    mytable['x'] = x\n",
    "    mytable['cos x'] = np.cos(x)\n",
    "    print (mytable['cos x'])\n",
    "    \n",
    "if __name__ == \"__main__\":\n",
    "    main()"
   ]
  },
  {
   "cell_type": "markdown",
   "id": "c5605826-c647-4b4d-afa7-faea5f10425d",
   "metadata": {},
   "source": [
    "This is x vs sin(x) vs cos(x)"
   ]
  },
  {
   "cell_type": "code",
   "execution_count": 3,
   "id": "0971dd33-d063-441e-a270-a323fd94050f",
   "metadata": {},
   "outputs": [
    {
     "name": "stdout",
     "output_type": "stream",
     "text": [
      "         x                    sin x                cos x       \n",
      "-------------------- ----------------------- ------------------\n",
      "                 0.0                     0.0                1.0\n",
      "0.006289474781961547    0.006289433316067751 0.9999802213186835\n",
      "0.012578949563923095    0.012578617838741058 0.9999208860571256\n",
      "0.018868424345884642     0.01886730478446709 0.9998219965624733\n",
      " 0.02515789912784619    0.025155245389375847  0.999683556746534\n",
      " 0.03144737390980774      0.0314421909191206 0.9995055720856217\n",
      "0.037736848691769284     0.03772789267871718 0.9992880496203402\n",
      " 0.04402632347373083     0.04401210202238166 0.9990309979553046\n",
      " 0.05031579825569238     0.05029457036336619 0.9987344272588006\n",
      "0.056605273037653926     0.05657504918379235 0.9983983492623831\n",
      "                 ...                     ...                ...\n",
      "    6.22029055935997    -0.06285329004448273 0.9980227772604112\n",
      "   6.226580034141932    -0.05657504918379272  0.998398349262383\n",
      "   6.232869508923893   -0.050294570363367035 0.9987344272588006\n",
      "   6.239158983705855    -0.04401210202238211 0.9990309979553045\n",
      "   6.245448458487816     -0.0377278926787181 0.9992880496203401\n",
      "   6.251737933269778   -0.031442190919121114 0.9995055720856217\n",
      "   6.258027408051739   -0.025155245389376843  0.999683556746534\n",
      "   6.264316882833701   -0.018867304784467676 0.9998219965624733\n",
      "   6.270606357615662   -0.012578617838742121 0.9999208860571257\n",
      "   6.276895832397624   -0.006289433316068405 0.9999802213186832\n",
      "   6.283185307179586 -2.4492935982947064e-16                1.0\n",
      "Length = 1000 rows\n"
     ]
    }
   ],
   "source": [
    "import numpy as np\n",
    "from astropy.table import Table\n",
    "import math\n",
    "\n",
    "def main():\n",
    "    x = np.linspace(0, 2*math.pi, 1000)\n",
    "    mytable=Table()\n",
    "    mytable['x'] = x\n",
    "    mytable['sin x'] = np.sin(x)\n",
    "    mytable['cos x'] = np.cos(x)\n",
    "    print (mytable)\n",
    "    \n",
    "if __name__ == \"__main__\":\n",
    "    main()"
   ]
  },
  {
   "cell_type": "markdown",
   "id": "a18001f5-328c-46a2-a2ef-d2d5b4ef5a01",
   "metadata": {},
   "source": [
    "This is the first 10 values of x, sin(x), and cos(x)"
   ]
  },
  {
   "cell_type": "code",
   "execution_count": null,
   "id": "8904f5fa-4cc1-4018-ad6f-f024f254b7f7",
   "metadata": {},
   "outputs": [],
   "source": [
    "import numpy as np\n",
    "import math\n",
    "\n",
    "def main():\n",
    "    x = math.pi/500\n",
    "    for i in range(10):\n",
    "        print( str(i*x) + \"          \" + str(np.sin(i*x)) +\"          \" + str(np.cos(i*x)) + \"\\n\")\n",
    "    \n",
    "if __name__ == \"__main__\":\n",
    "    main()"
   ]
  }
 ],
 "metadata": {
  "kernelspec": {
   "display_name": "ASTR 19",
   "language": "python",
   "name": "astr19"
  },
  "language_info": {
   "codemirror_mode": {
    "name": "ipython",
    "version": 3
   },
   "file_extension": ".py",
   "mimetype": "text/x-python",
   "name": "python",
   "nbconvert_exporter": "python",
   "pygments_lexer": "ipython3",
   "version": "3.10.12"
  }
 },
 "nbformat": 4,
 "nbformat_minor": 5
}
